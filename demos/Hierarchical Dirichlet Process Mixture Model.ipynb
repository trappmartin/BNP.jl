{
 "cells": [
  {
   "cell_type": "markdown",
   "metadata": {},
   "source": [
    "# Example of a Hierarchical Dirichet Process Mixture Model for Topic Modeling"
   ]
  },
  {
   "cell_type": "code",
   "execution_count": 1,
   "metadata": {
    "collapsed": false
   },
   "outputs": [],
   "source": [
    "using BNP"
   ]
  },
  {
   "cell_type": "markdown",
   "metadata": {},
   "source": [
    "## Generate test data"
   ]
  },
  {
   "cell_type": "code",
   "execution_count": 2,
   "metadata": {
    "collapsed": true
   },
   "outputs": [],
   "source": [
    "# define size of bar image\n",
    "img_size = 5\n",
    "\n",
    "# define amount of noise\n",
    "noise_level = 0.01\n",
    "\n",
    "# define probabilities of generating a particular number of bars\n",
    "num_per_mixture = [0 ones(1,3)] ./ 3\n",
    "\n",
    "# define number of groups (J)\n",
    "num_group = 40\n",
    "\n",
    "# define number of data items drawn from each group\n",
    "num_data = 50;"
   ]
  },
  {
   "cell_type": "code",
   "execution_count": 3,
   "metadata": {
    "collapsed": false
   },
   "outputs": [],
   "source": [
    "# generate data\n",
    "(samples, bars) = generateBarsDataset(img_size, noise_level, num_per_mixture, num_group, num_data);"
   ]
  },
  {
   "cell_type": "markdown",
   "metadata": {},
   "source": [
    "## visualize data"
   ]
  },
  {
   "cell_type": "code",
   "execution_count": 5,
   "metadata": {
    "collapsed": false
   },
   "outputs": [
    {
     "data": {
      "text/html": [],
      "text/plain": [
       "Interact.Slider{Int64}([Reactive.Input{Int64}] 20,\"group\",20,1:40)"
      ]
     },
     "metadata": {},
     "output_type": "display_data"
    },
    {
     "data": {
      "image/png": "[encoded data removed]",
      "text/plain": [
       "Gray Images.Image with:\n",
       "  data: 5x5 Array{Float64,2}\n",
       "  properties:\n",
       "    colorspace: Gray\n",
       "    spatialorder:  x y"
      ]
     },
     "execution_count": 5,
     "metadata": {
      "comm_id": "a47b60bf-723c-4249-83e2-f29f63c59a99",
      "reactive": true
     },
     "output_type": "execute_result"
    }
   ],
   "source": [
    "using Images\n",
    "using Interact\n",
    "\n",
    "# create array of sample images used for training\n",
    "I = Array{Array}(num_group)\n",
    "\n",
    "# loop over groups / documents\n",
    "for i in 1:num_group\n",
    "    \n",
    "    II = zeros(img_size, img_size)\n",
    "    \n",
    "    for j in samples[i]\n",
    "        xi, yi = ind2sub(size(II), j)\n",
    "        \n",
    "        II[xi, yi] += 1\n",
    "    end\n",
    "    \n",
    "    # assign document\n",
    "    I[i] = II ./ maximum(II)\n",
    "end\n",
    "\n",
    "# Interactivelly visualize data\n",
    "@manipulate for group in 1:num_group\n",
    "    grayim(I[group])\n",
    "end"
   ]
  },
  {
   "cell_type": "markdown",
   "metadata": {},
   "source": [
    "## visualize topics"
   ]
  },
  {
   "cell_type": "code",
   "execution_count": 6,
   "metadata": {
    "collapsed": false
   },
   "outputs": [
    {
     "data": {
      "text/html": [],
      "text/plain": [
       "Interact.Slider{Int64}([Reactive.Input{Int64}] 5,\"topic\",5,1:10)"
      ]
     },
     "metadata": {},
     "output_type": "display_data"
    },
    {
     "data": {
      "image/png": "[encoded data removed]",
      "text/plain": [
       "Gray Images.Image with:\n",
       "  data: 5x5 Array{Float64,2}\n",
       "  properties:\n",
       "    colorspace: Gray\n",
       "    spatialorder:  x y"
      ]
     },
     "execution_count": 6,
     "metadata": {
      "comm_id": "2a1b8a36-7fb8-4507-9af8-72a671b3e5fd",
      "reactive": true
     },
     "output_type": "execute_result"
    }
   ],
   "source": [
    "# create array of shared distributions (topics) underlying the data\n",
    "I = Array{Array}(num_group)\n",
    "\n",
    "# loop over all shared distributions\n",
    "for i in 1:size(bars, 2)\n",
    "    \n",
    "    II = reshape(bars[:,i], img_size, img_size)\n",
    "    \n",
    "    # assign shared distributions image\n",
    "    I[i] = II ./ maximum(II)\n",
    "end\n",
    "\n",
    "# Interactivelly visualize shared distributions\n",
    "@manipulate for topic in 1:size(bars, 2)\n",
    "    grayim(I[topic])\n",
    "end"
   ]
  },
  {
   "cell_type": "markdown",
   "metadata": {},
   "source": [
    "# train HDP using collapsed Gibbs sampling"
   ]
  },
  {
   "cell_type": "code",
   "execution_count": 8,
   "metadata": {
    "collapsed": false
   },
   "outputs": [],
   "source": [
    "# Dimensionality of the data\n",
    "D = img_size * img_size\n",
    "\n",
    "# We assume a Multinomial Distribution with a Dirichlet Prior as base distribution\n",
    "H = MultinomialDirichlet(D, 1.0)\n",
    "\n",
    "# Train a Hierarical Dirichlet Process Mixture Model guessing 10 shared Distributions\n",
    "models = train(BNP.HDP(H, α = 1.0), Gibbs(), RandomInitialisation(k = 10), samples);"
   ]
  },
  {
   "cell_type": "markdown",
   "metadata": {},
   "source": [
    "# visualize infered topics"
   ]
  },
  {
   "cell_type": "code",
   "execution_count": 41,
   "metadata": {
    "collapsed": false
   },
   "outputs": [
    {
     "data": {
      "text/html": [],
      "text/plain": [
       "Interact.Slider{Int64}([Reactive.Input{Int64}] 50,\"iteration\",50,1:100)"
      ]
     },
     "metadata": {},
     "output_type": "display_data"
    },
    {
     "data": {
      "text/html": [],
      "text/plain": [
       "Interact.Slider{Int64}([Reactive.Input{Int64}] 5,\"topic\",5,1:10)"
      ]
     },
     "metadata": {},
     "output_type": "display_data"
    },
    {
     "data": {
      "image/png": "[encoded data removed]",
      "text/plain": [
       "Gray Images.Image with:\n",
       "  data: 5x5 Array{Float64,2}\n",
       "  properties:\n",
       "    colorspace: Gray\n",
       "    spatialorder:  x y"
      ]
     },
     "execution_count": 41,
     "metadata": {
      "comm_id": "35d4b739-e6c5-4a3e-96e9-e6773421f6f8",
      "reactive": true
     },
     "output_type": "execute_result"
    }
   ],
   "source": [
    "# create an array to store the resulting topics for each iteration\n",
    "R = Array{Array}(length(models))\n",
    "\n",
    "# loop over all iterations\n",
    "for iter in 1:length(models)\n",
    "\n",
    "    # filter out empty distributions (topics)\n",
    "    G = filter(x -> x.n > 0, models[iter].G)\n",
    "\n",
    "    # create array of resulting topics for this iteration\n",
    "    I = Array{Array}(length(G))\n",
    "\n",
    "    # loop over all topics\n",
    "    for i in 1:length(G)\n",
    "\n",
    "        # reshape distribution to 2d image dimensions\n",
    "        II = reshape(full(G[i].counts), img_size, img_size)\n",
    "\n",
    "        # assign and normalize (necessary for visualisation)\n",
    "        I[i] = II ./ maximum(II)\n",
    "    end\n",
    "    \n",
    "    # assign to results array\n",
    "    R[iter] = I\n",
    "end\n",
    "\n",
    "@manipulate for iteration in 1:length(models), topic in 1:size(bars, 2)\n",
    "    grayim(R[iteration][topic])\n",
    "end"
   ]
  }
 ],
 "metadata": {
  "kernelspec": {
   "display_name": "Julia 0.4.0",
   "language": "julia",
   "name": "julia-0.4"
  },
  "language_info": {
   "file_extension": ".jl",
   "mimetype": "application/julia",
   "name": "julia",
   "version": "0.4.0"
  }
 },
 "nbformat": 4,
 "nbformat_minor": 0
}
