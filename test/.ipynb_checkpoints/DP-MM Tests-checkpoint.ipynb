{
 "cells": [
  {
   "cell_type": "code",
   "execution_count": 24,
   "metadata": {
    "collapsed": true
   },
   "outputs": [],
   "source": [
    "using Base.Test"
   ]
  },
  {
   "cell_type": "markdown",
   "metadata": {},
   "source": [
    "# testing utility functions"
   ]
  },
  {
   "cell_type": "code",
   "execution_count": 170,
   "metadata": {
    "collapsed": false
   },
   "outputs": [
    {
     "data": {
      "text/plain": [
       "rand_indices (generic function with 1 method)"
      ]
     },
     "execution_count": 170,
     "metadata": {},
     "output_type": "execute_result"
    }
   ],
   "source": [
    "include(\"../src/utils.jl\")"
   ]
  },
  {
   "cell_type": "markdown",
   "metadata": {},
   "source": [
    "## test sampling of random concentration parameter"
   ]
  },
  {
   "cell_type": "code",
   "execution_count": 172,
   "metadata": {
    "collapsed": false
   },
   "outputs": [],
   "source": [
    "k = 2\n",
    "N = 100\n",
    "alpha = 1.0\n",
    "\n",
    "gamma_a = 1.0\n",
    "gamma_b = 1.0\n",
    "\n",
    "alpha = random_concentration_parameter!(alpha, gamma_a, gamma_b, N, k, maxiter = 10)\n",
    "\n",
    "@test alpha < 1.0\n",
    "@test alpha > 0.0"
   ]
  },
  {
   "cell_type": "code",
   "execution_count": 174,
   "metadata": {
    "collapsed": false
   },
   "outputs": [
    {
     "name": "stdout",
     "output_type": "stream",
     "text": [
      "elapsed time: 3.1783e-5 seconds (528 bytes allocated)\n"
     ]
    },
    {
     "data": {
      "text/plain": [
       "0.07449166710212353"
      ]
     },
     "execution_count": 174,
     "metadata": {},
     "output_type": "execute_result"
    }
   ],
   "source": [
    "random_concentration_parameter(alpha, gamma_a, gamma_b, N, k, maxiter = 10)\n",
    "@time random_concentration_parameter(alpha, gamma_a, gamma_b, N, k, maxiter = 10)"
   ]
  },
  {
   "cell_type": "code",
   "execution_count": 175,
   "metadata": {
    "collapsed": false
   },
   "outputs": [],
   "source": [
    "k = [2 4]\n",
    "N = [100 100]\n",
    "alpha = 1.0\n",
    "\n",
    "gamma_a = 1.0\n",
    "gamma_b = 1.0\n",
    "\n",
    "alpha = random_concentration_parameter(alpha, gamma_a, gamma_b, N, k, maxiter = 10)\n",
    "\n",
    "@test alpha < 1.0\n",
    "@test alpha > 0.0"
   ]
  },
  {
   "cell_type": "code",
   "execution_count": 177,
   "metadata": {
    "collapsed": false
   },
   "outputs": [
    {
     "name": "stdout",
     "output_type": "stream",
     "text": [
      "elapsed time: 0.000297433 seconds (59488 bytes allocated)\n"
     ]
    },
    {
     "data": {
      "text/plain": [
       "0.09708714626099428"
      ]
     },
     "execution_count": 177,
     "metadata": {},
     "output_type": "execute_result"
    }
   ],
   "source": [
    "random_concentration_parameter(alpha, gamma_a, gamma_b, N, k, maxiter = 10)\n",
    "@time random_concentration_parameter(alpha, gamma_a, gamma_b, N, k, maxiter = 10)"
   ]
  },
  {
   "cell_type": "markdown",
   "metadata": {},
   "source": [
    "## test rand index function"
   ]
  },
  {
   "cell_type": "code",
   "execution_count": 179,
   "metadata": {
    "collapsed": false
   },
   "outputs": [],
   "source": [
    "p = [0.1 0.7 0.2]\n",
    "\n",
    "pp = [0 0 0]\n",
    "for j = 1:10000\n",
    "    pp[rand_indices(p)] += 1\n",
    "end\n",
    "\n",
    "pp /= 10000\n",
    "\n",
    "@test_approx_eq_eps pp[1] p[1] 0.01\n",
    "@test_approx_eq_eps pp[2] p[2] 0.01\n",
    "@test_approx_eq_eps pp[3] p[3] 0.01"
   ]
  },
  {
   "cell_type": "code",
   "execution_count": 180,
   "metadata": {
    "collapsed": false
   },
   "outputs": [
    {
     "name": "stdout",
     "output_type": "stream",
     "text": [
      "elapsed time: 0.000631104 seconds (0 bytes allocated)\n"
     ]
    },
    {
     "data": {
      "text/plain": [
       "1x3 Array{Float64,2}:\n",
       " 0.0985  0.6992  0.2023"
      ]
     },
     "execution_count": 180,
     "metadata": {},
     "output_type": "execute_result"
    }
   ],
   "source": [
    "for j = 1:10000\n",
    "    rand_indices(p)\n",
    "end\n",
    "\n",
    "@time for j = 1:10000\n",
    "    rand_indices(p)\n",
    "end"
   ]
  }
 ],
 "metadata": {
  "kernelspec": {
   "display_name": "Julia 0.3.7",
   "language": "julia",
   "name": "julia-0.3"
  },
  "language_info": {
   "file_extension": ".jl",
   "mimetype": "application/julia",
   "name": "julia",
   "version": "0.3.7"
  }
 },
 "nbformat": 4,
 "nbformat_minor": 0
}
